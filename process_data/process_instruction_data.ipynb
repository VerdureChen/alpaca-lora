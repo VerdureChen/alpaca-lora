{
 "cells": [
  {
   "cell_type": "code",
   "execution_count": 1,
   "metadata": {
    "collapsed": true,
    "pycharm": {
     "name": "#%%\n"
    }
   },
   "outputs": [],
   "source": [
    "# construct training data for reranker"
   ]
  },
  {
   "cell_type": "code",
   "execution_count": 2,
   "outputs": [],
   "source": [
    "# 模拟alpaca训练数据格式"
   ],
   "metadata": {
    "collapsed": false,
    "pycharm": {
     "name": "#%%\n"
    }
   }
  },
  {
   "cell_type": "code",
   "execution_count": 3,
   "outputs": [],
   "source": [
    "import json\n",
    "import datasets"
   ],
   "metadata": {
    "collapsed": false,
    "pycharm": {
     "name": "#%%\n"
    }
   }
  },
  {
   "cell_type": "code",
   "execution_count": 4,
   "outputs": [
    {
     "name": "stdout",
     "output_type": "stream",
     "text": [
      "Num of training samples 100000\n"
     ]
    }
   ],
   "source": [
    "data_path = '/home1/cxy/tart/rankgpt/data/marco-train-100k.jsonl'\n",
    "data = [json.loads(line) for line in open(data_path)]\n",
    "print('Num of training samples', len(data))"
   ],
   "metadata": {
    "collapsed": false,
    "pycharm": {
     "name": "#%%\n"
    }
   }
  },
  {
   "cell_type": "code",
   "execution_count": 5,
   "outputs": [
    {
     "name": "stdout",
     "output_type": "stream",
     "text": [
      "Num of permutation samples 100000\n"
     ]
    }
   ],
   "source": [
    "permutation = '/home1/cxy/tart/rankgpt/data/marco-train-100k-gpt3.5.json'\n",
    "response = json.load(open(permutation))\n",
    "print('Num of permutation samples', len(response))"
   ],
   "metadata": {
    "collapsed": false,
    "pycharm": {
     "name": "#%%\n"
    }
   }
  },
  {
   "cell_type": "code",
   "execution_count": 42,
   "outputs": [
    {
     "data": {
      "text/plain": "{'query': 'define:semordnilap',\n 'query_id': '129844',\n 'positive_passages': [{'docid': '7817031',\n   'title': '-',\n   'text': ' desserts  /  stressed .  diaper  /  repaid 1  . A word, phrase, or sentence that has the property of forming another word, phrase, or sentence when its letters are reversed. 2  A semordnilap differs from a palindrome in that the word or phrase resulting from the reversal is different from the original word or phrase.'}],\n 'negative_passages': [],\n 'retrieved_passages': []}"
     },
     "execution_count": 42,
     "metadata": {},
     "output_type": "execute_result"
    }
   ],
   "source": [
    "data[28961]"
   ],
   "metadata": {
    "collapsed": false,
    "pycharm": {
     "name": "#%%\n"
    }
   }
  },
  {
   "cell_type": "code",
   "execution_count": 43,
   "outputs": [
    {
     "data": {
      "text/plain": "\"I'm sorry, but you have not provided any passages for me to rank. Please provide the passages so I can rank them based on their relevance to the search query.\""
     },
     "execution_count": 43,
     "metadata": {},
     "output_type": "execute_result"
    }
   ],
   "source": [
    "response[28961]"
   ],
   "metadata": {
    "collapsed": false,
    "pycharm": {
     "name": "#%%\n"
    }
   }
  },
  {
   "cell_type": "code",
   "execution_count": 8,
   "outputs": [],
   "source": [
    "# 1.  设计\n",
    "# \t1. 总体思路：沿用RankGPT设置\n",
    "# \t2. 模型输入：instruction+query+candidate passage\n",
    "# \t3. 模型输出：序号列表\n",
    "# \t4. 监督信号：GPT3.5\n",
    "# \t5. 输入passage数量：10\n",
    "# \t6. eval_size：4000\n",
    "# 2. 细节实现\n",
    "# \t1. 加入positive passage后如何安排序号？随机插入序列\n",
    "# \t2. 输入的passage序列是否包含顺序信息？数据包含两部分信息：1）从20个retrieved_passages里随机挑选9个与positive不同的文档 2）更新gpt3.5排序信息，从rank映射到id（或者其他更容易查询的形式） 3）对挑选出的样本构成两类数据（1. 随机顺序，2.BM25顺序）先构造BM25顺序\n",
    "# \t3. 输入10个文档后长度超过限制怎么办？1）计算构造好数据的token数量 2）如果未超过，则跳过 3）如果超过最大长度（2048），则计算文档去除instruction后的最大平均长度，对超过平均长度的文档截取到最大平均长度\n",
    "# 3. 输出格式\n",
    "# \t1. 保存为json格式\n",
    "# \t2. 每个样本包含：1）instruction (query) 2）input (candidate passage list) 3）num (passage number) 4）label list (like [5] > [3] > [8] > [7] > [2] > [1] > [6] > [9] > [10] > [11])"
   ],
   "metadata": {
    "collapsed": false,
    "pycharm": {
     "name": "#%%\n"
    }
   }
  },
  {
   "cell_type": "code",
   "execution_count": 9,
   "outputs": [],
   "source": [
    "# 构造BM25和GPT3.5结果的id list\n",
    "def construct_order_id_list(data, i, label=False):\n",
    "    id_list = []\n",
    "    positive_passage = data[i]['positive_passages'][0]\n",
    "    query = data[i]['query']\n",
    "    query_id = data[i]['query_id']\n",
    "    retrieved_passages = data[i]['retrieved_passages']\n",
    "    if label:\n",
    "        id_list.append(positive_passage['docid'])\n",
    "    for item in retrieved_passages:\n",
    "        if label and item['docid'] == positive_passage['docid']:\n",
    "            continue\n",
    "        id_list.append(item['docid'])\n",
    "    passage_dict = {}\n",
    "    for passage in retrieved_passages:\n",
    "        passage_dict[passage['docid']] = passage['text']\n",
    "    # add positive passage\n",
    "    passage_dict[positive_passage['docid']] = positive_passage['text']\n",
    "    return id_list, query_id, query, positive_passage, passage_dict"
   ],
   "metadata": {
    "collapsed": false,
    "pycharm": {
     "name": "#%%\n"
    }
   }
  },
  {
   "cell_type": "code",
   "execution_count": 10,
   "outputs": [],
   "source": [
    "# from original rankgpt code\n",
    "def receive_response(data, responses):\n",
    "    def clean_response(response: str):\n",
    "        new_response = ''\n",
    "        for c in response:\n",
    "            if not c.isdigit():\n",
    "                new_response += ' '\n",
    "            else:\n",
    "                new_response += c\n",
    "        new_response = new_response.strip()\n",
    "        return new_response\n",
    "\n",
    "    def remove_duplicate(response):\n",
    "        new_response = []\n",
    "        for c in response:\n",
    "            if c not in new_response:\n",
    "                new_response.append(c)\n",
    "        return new_response\n",
    "\n",
    "    new_data = []\n",
    "    for item, response in zip(data, responses):\n",
    "        response = clean_response(response)\n",
    "        response = [int(x) - 1 for x in response.split()]\n",
    "        response = remove_duplicate(response)\n",
    "        passages = item['retrieved_passages']\n",
    "        original_rank = [tt for tt in range(len(passages))]\n",
    "        response = [ss for ss in response if ss in original_rank]\n",
    "        response = response + [tt for tt in original_rank if tt not in response]\n",
    "        new_passages = [passages[ii] for ii in response]\n",
    "        new_data.append({'query': item['query'],\n",
    "                         'query_id': item['query_id'],\n",
    "                         'positive_passages': item['positive_passages'],\n",
    "                         'retrieved_passages': new_passages})\n",
    "    return new_data\n",
    "\n",
    "gpt_data = receive_response(data, response)"
   ],
   "metadata": {
    "collapsed": false,
    "pycharm": {
     "name": "#%%\n"
    }
   }
  },
  {
   "cell_type": "code",
   "execution_count": 11,
   "outputs": [
    {
     "data": {
      "text/plain": "{'query': 'how was google founded',\n 'query_id': '387441',\n 'positive_passages': [{'docid': '5210298',\n   'title': 'What year was Google founded?',\n   'text': \"Google was co-founded in by Larry Page and Sergey Brin while they were students at Stanford University. Google was first incorporated as a privately held company on September â\\x80¦4th, 1998. The company name Google has its origin in the word Googol, which is the term for the number that represents 'one followed by hundred zeros'.\"}],\n 'retrieved_passages': [{'docid': '1571948',\n   'rank': 5,\n   'text': \"The name came from the search engine's use of back-links to determine page relevance. This is a patented algorithm known as PageRank. Brin and Page left Stanford and founded Google, Inc in September of 1998. Google was an instant hit, and by the year 2000, Google was the world's largest search engine. By 2001 it did something that eluded most of the dot.com business startups of the time. Google became profitable. How Google Makes Money. Most services Google provides are free, meaning that the user does not have to pay money to use them.\"},\n  {'docid': '1611257',\n   'rank': 3,\n   'text': \"What really convinced me was how much I started using Google myself. This was shortly after I found out that Google's search recognizes +1's coupled with the discovery of Google Authorship. Employing Google Authorship as a PR channel has proved very beneficial to Google as they are now the second largest social network, next to Facebook.\"},\n  {'docid': '5409484',\n   'rank': 8,\n   'text': 'After Googling Google on Google I found that Google was founded: September 4, 1998. Emphasis: Google.'},\n  {'docid': '2628699',\n   'rank': 7,\n   'text': 'Also like other search engines, Google has a large index of keywords and where those words can be found. What sets Google apart is how it ranks search results, which in turn determines the order Google displays results on its search engine results page (SERP).'},\n  {'docid': '5462915',\n   'rank': 2,\n   'text': 'How to Get on the Front Page of Google in 7 Minutes or Less. How to get on the front page of Google. How to get on the first page of Google. How to be found on Google. Google first page. Google front page. Google Search Engine Optimization.Google SEO.how to get on front page of Google. Google front page software.lick here to Discover How to be on Google Front Page in 7 minutes or less: http://bit.ly/18ziu1S. These top Internet marketers-Shawn Casey and Brian Koz-have spent over $100K to build the most powerful software-ever-that automatically gets traffic to your website.'},\n  {'docid': '7379456',\n   'rank': 1,\n   'text': 'Instructions to install the Google Play Services in our Xamarin Android Player or the GenyMotion Emulator can be found here: https://university.xamarin.com/resources/how-to-install-google-play-on-android-emulator.Yes I found this article helpful. No I did not find this article helpful.nstructions to install the Google Play Services in our Xamarin Android Player or the GenyMotion Emulator can be found here: https://university.xamarin.com/resources/how-to-install-google-play-on-android-emulator. Yes I found this article helpful.'},\n  {'docid': '8352392',\n   'rank': 6,\n   'text': 'How to Sign Up for Gmail or a Google Account WITHOUT Google+. Ars found out that you can sign up for a Gmail or regular Google account using the same signup link, but without actually getting a Google+ profile.ow to DELETE Your Google+ Profile. 1. Click on your name in the top right corner or Gmail or another Google page. 2. Click on Account Settings. You can also just click here to skip the first two steps. 3. Under Account Overview, find Services. 4. Click on Delete profile and remove associated Google+ features.'},\n  {'docid': '3251269',\n   'rank': 9,\n   'text': 'I found a few lists of the most common words in the English language, and came up with a top 50 to see how frequently those were estimated to show up in Google, Yahoo, Bing, Ask, and Google Caffeine.'},\n  {'docid': '2185924',\n   'rank': 10,\n   'text': \"found this site called younow where you can stream and talk to people and stuff. and be able to make money there and being partnered with younow. i tried to google about it and see how much can people make there like top streamers but i didn't find anything. does anyone know how much can a person make per month... show more found this site called younow where you can stream and talk to people and stuff. and be able to make money there and being partnered with younow. i tried to google about it and see how much can people make there like top streamers but i didn't find anything.\"},\n  {'docid': '6053763',\n   'rank': 11,\n   'text': \"Hi! I'm completely new here. I was just googling how much sleep a four month old lab puppy should sleep in a 24 hour period and I found you guys! We have Luna, who is 4 months old, and she is just darling.She is so calm and patient, but everyone has been commenting on how much she sleeps.i! I'm completely new here. I was just googling how much sleep a four month old lab puppy should sleep in a 24 hour period and I found you guys! We have Luna, who is 4 months old, and she is just darling.\"},\n  {'docid': '6164851',\n   'rank': 12,\n   'text': 'To stop recording, simply press â\\x80\\x9c4â\\x80\\x9d again or end the call as you would normally. After you stop recording, Google will automatically save the conversation to your Inbox, which is where all your recordings can be found, listened to, or downloaded. Next Page: How to record an outgoing call with an iPhone app.1 2.fter you stop recording, Google will automatically save the conversation to your Inbox, which is where all your recordings can be found, listened to, or downloaded. Next Page: How to record an outgoing call with an iPhone app.'},\n  {'docid': '4120968',\n   'rank': 13,\n   'text': \"Here's how to install Google apps on Kindle Fire HD with no rooting required. One of the main reasons to root your Kindle Fire is so you can install the Google Play Store and have access to apps that can't be found in the Amazon Appstore.\"},\n  {'docid': '4348023',\n   'rank': 14,\n   'text': \"If you look at a chart from Google Trends, which measures how often Google users are searching for certain terms, the search term Pinterest doesn't really register until about midway through 2011. Then it spikes. But Pinterest wasn't founded in 2011.\"},\n  {'docid': '6424129',\n   'rank': 15,\n   'text': \"I did a google blog search for quilt blogs that had John Flynn's pieced backing info and found dozens with pictures how to do this. With blogs and Youtube I can learn anything. Also Google images has lots of pictures of this method.\"},\n  {'docid': '3251270',\n   'rank': 16,\n   'text': 'I found a few lists of the most common words in the English language, and came up with a top 50 to see how frequently those were estimated to show up in Google, Yahoo, Bing, Ask, and Google Caffeine. Those are shown in a table and a chart below.'},\n  {'docid': '906577',\n   'rank': 17,\n   'text': 'I would imagine that it would differ from phone to phone, but probably nothing. If you mean how much does it cost to make a google+ account, that nothing, though you need an iâ\\x80¦nvite to the site and a google account. 4 people found this useful.'},\n  {'docid': '8314103',\n   'rank': 18,\n   'text': \"10/11/11 3:25 PM. When I paste text I copied from Gmail into a Google Doc it has a strange box/border around the text. When I paste into Gmail, I have the same problem, but found I can choose Remove Formatting, and it will remove the box. In Docs, that doesn't seem to do the trick.The box only started to appear with the updates that were made to the look and feel of Gmail and Google Docs. So...this is sort of a How To question, but also a request for Google to get rid of the box when copying and pasting between Google applications.0/11/11 3:25 PM. When I paste text I copied from Gmail into a Google Doc it has a strange box/border around the text. When I paste into Gmail, I have the same problem, but found I can choose Remove Formatting, and it will remove the box. In Docs, that doesn't seem to do the trick.\"},\n  {'docid': '1893665',\n   'rank': 19,\n   'text': '115 Responses to How to Change the Default Web Browser in Windows 10. I doesnâ\\x80\\x99t work for me! Google Chrome is not a default option: only Mozilla Firefox, Internet Explorer, Edge, and â\\x80\\x9cLook for an app in the Storeâ\\x80\\x9d (which I did and Google Chrome was nowhere to be found).'},\n  {'docid': '6244245',\n   'rank': 20,\n   'text': \"Rating Newest Oldest. Best Answer: I've actually been wondering the same exact thing. I googled MRSA and found out that doctors have a very hard time predicting how long it'll take to treat the patients because MRSA can become resistant to almost any medication.It's very scary and it's actually spreading around right now.ating Newest Oldest. Best Answer: I've actually been wondering the same exact thing. I googled MRSA and found out that doctors have a very hard time predicting how long it'll take to treat the patients because MRSA can become resistant to almost any medication.\"},\n  {'docid': '1486567',\n   'rank': 4,\n   'text': 'The one problem I have found with Google Talk on an Android device is how it signs me into Google Talk automatically whenever my phone is connected to the internet. It is pretty easy to disable this however in the Google Talk settings on your phone.'}]}"
     },
     "execution_count": 11,
     "metadata": {},
     "output_type": "execute_result"
    }
   ],
   "source": [
    "gpt_data[1]"
   ],
   "metadata": {
    "collapsed": false,
    "pycharm": {
     "name": "#%%\n"
    }
   }
  },
  {
   "cell_type": "code",
   "execution_count": 44,
   "outputs": [],
   "source": [
    "import random\n",
    "from tqdm import tqdm\n",
    "def construct_data(tokenizer, save_path, data, response, num=10):\n",
    "    instruction = \"Rank the {num} passages based on their relevance to the search query. The passages will be listed in descending order using identifiers, and the most relevant passages should be listed first, and the output format should be [] > [] > etc\\n\\n### Query:\\n{instruction}\\n\\n### Candidates:\\n{input}\\n\\n### Response:\\n\"\n",
    "    #for each sample in data and response, construct the order list\n",
    "    assert len(data) == len(response)\n",
    "    truncated_query_num = 0\n",
    "    save_lst = []\n",
    "    for i in tqdm(range(len(data))):\n",
    "        bm25_id_list, query_id, query, positive_passage, passage_dict = construct_order_id_list(data, i, label=False)\n",
    "        gpt_id_list, gpt_query_id, _, _, _ = construct_order_id_list(gpt_data, i, label=True)\n",
    "        assert query_id == gpt_query_id\n",
    "        # random select num-1 passages from bm25_id_list\n",
    "        # if bbm25_id_list contain less than num-1 passages, print warning and skip\n",
    "        if len(bm25_id_list) < num-1:\n",
    "            print(f\"Warning: {query_id} contain less than {num-1} passages\")\n",
    "            continue\n",
    "        ordered_random_id_list = random.sample(range(len(bm25_id_list)), num)\n",
    "        ordered_random_id_list.sort()\n",
    "        bm25_selected_id_list = [bm25_id_list[i] for i in ordered_random_id_list]\n",
    "        # if positive id not in bm25_selected_id_list , randomly delete one id and then insert positive passage randomly into bm25_selected_id_list\n",
    "        if positive_passage['docid'] not in bm25_selected_id_list:\n",
    "            del_idx = random.randint(0, num-1)\n",
    "            del bm25_selected_id_list[del_idx]\n",
    "            insert_idx = random.randint(0, num-1)\n",
    "            bm25_selected_id_list.insert(insert_idx, positive_passage['docid'])\n",
    "        label_idx_lst = [bm25_selected_id_list.index(item) if item in bm25_selected_id_list else -1 for item in gpt_id_list]\n",
    "        # delete -1 in label_idx_lst\n",
    "        label_idx_lst = [item+1 for item in label_idx_lst if item != -1]\n",
    "        #3. 输出格式\n",
    "        # \t1. 保存为json格式\n",
    "        # \t2. 每个样本包含：1）instruction (query) 2）input (candidate passage list) 3）num (passage number) 4）label list (like [5] > [3] > [8] > [7] > [2] > [1] > [6] > [9] > [10] > [11])\n",
    "        label_text = ' > '.join(['['+ str(item)+']' for item in label_idx_lst])\n",
    "        input_text = '\\n'.join([f'[{rank+1}] '+passage_dict[item] for rank, item in enumerate(bm25_selected_id_list)])\n",
    "        instruction_text = query\n",
    "        full_input_text = instruction.format(num=num, instruction=instruction_text, input=input_text)\n",
    "        input_text_without_input_text = instruction.format(num=num, instruction=instruction_text, input='')\n",
    "        # compute if the tokenized full_input_text is longer than 2048\n",
    "        tokenized_full_input_text = tokenizer(\n",
    "                                        full_input_text,\n",
    "                                        truncation=False,\n",
    "                                        max_length=2048,\n",
    "                                        padding=False,\n",
    "                                        return_tensors=None,\n",
    "                                    )\n",
    "        if len(tokenized_full_input_text['input_ids']) > 2047:\n",
    "            # count the number of truncated query\n",
    "            truncated_query_num += 1\n",
    "            # compute the average length of the passage, which = (2048 - len(input_text_without_input_text)) / num\n",
    "            average_passage_length = int((2047 - len(input_text_without_input_text)) / num)\n",
    "            # for each passage in bm25_selected_id_list, truncate the passage to average_passage_length\n",
    "            for idx, item in enumerate(bm25_selected_id_list):\n",
    "                passage = passage_dict[item]\n",
    "                passage_tokenized = tokenizer(\n",
    "                                        passage,\n",
    "                                        truncation=False,\n",
    "                                        max_length=average_passage_length,\n",
    "                                        padding=False,\n",
    "                                        return_tensors=None,\n",
    "                                    )['input_ids']\n",
    "                if len(passage_tokenized) > average_passage_length:\n",
    "                    passage_tokenized = passage_tokenized[:average_passage_length]\n",
    "                    passage_dict[item] = tokenizer.decode(passage_tokenized)\n",
    "                    # print query_id, item, len(passage_tokenized), len(tokenizer(passage)[\"input_ids\"])\n",
    "                    # print the length of the truncated passage and the original passage\n",
    "                    print(f'query_id is {query_id}, passage_id is {item}')\n",
    "                    print(f'the length of the truncated passage is {len(passage_tokenized)}')\n",
    "                    print(f'the length of the original passage is {len(tokenizer(passage)[\"input_ids\"])}')\n",
    "            # recompute the input_text\n",
    "            input_text = '\\n'.join([f'[{rank+1}] '+passage_dict[item] for rank, item in enumerate(bm25_selected_id_list)])\n",
    "            full_input_text = instruction.format(num=num, instruction=instruction_text, input=input_text)\n",
    "            tokenized_full_input_text_truncated = tokenizer(\n",
    "                                        full_input_text,\n",
    "                                        truncation=False,\n",
    "                                        max_length=2048,\n",
    "                                        padding=False,\n",
    "                                        return_tensors=None,\n",
    "                                    )\n",
    "            assert len(tokenized_full_input_text_truncated['input_ids']) <= 2047\n",
    "        # print the important information of the first and second sample\n",
    "        if i == 0 or i == 1:\n",
    "            print(f'query_id is {query_id}, positive_passage_id is {positive_passage[\"docid\"]}')\n",
    "            # print id_list\n",
    "            print(f'bm25_id_list is {bm25_selected_id_list}')\n",
    "            print(f'gpt_id_list is {gpt_id_list}')\n",
    "            # print label_idx_lst\n",
    "            print(f'label_idx_lst is {label_idx_lst}')\n",
    "            # print input_text\n",
    "            print(f'input_text is {full_input_text}')\n",
    "            # print label_text\n",
    "            print(f'label_text is {label_text}')\n",
    "            # print length of tokenized_full_input_text\n",
    "            print(f'the length of tokenized_full_input_text is {len(tokenized_full_input_text[\"input_ids\"])}')\n",
    "            # if the length of tokenized_full_input_text is longer than 2048, print the length of tokenized_full_input_text_truncated\n",
    "            if len(tokenized_full_input_text['input_ids']) > 2047:\n",
    "                print(f'the length of tokenized_full_input_text_truncated is {len(tokenized_full_input_text_truncated[\"input_ids\"])}')\n",
    "\n",
    "\n",
    "\n",
    "        # add sample to save_lst\n",
    "        sample = {'instruction': instruction_text, 'input': input_text, 'num': num, 'output': label_text}\n",
    "        save_lst.append(sample)\n",
    "    print(f'the number of truncated query is {truncated_query_num}')\n",
    "    # save save_lst to save_path\n",
    "    with open(save_path, 'w') as f:\n",
    "        json.dump(save_lst, f)\n",
    "    return save_lst"
   ],
   "metadata": {
    "collapsed": false,
    "pycharm": {
     "name": "#%%\n"
    }
   }
  },
  {
   "cell_type": "code",
   "execution_count": 45,
   "outputs": [
    {
     "name": "stderr",
     "output_type": "stream",
     "text": [
      "The tokenizer class you load from this checkpoint is not the same type as the class this function is called from. It may result in unexpected tokenization. \n",
      "The tokenizer class you load from this checkpoint is 'LLaMATokenizer'. \n",
      "The class this function is called from is 'LlamaTokenizer'.\n",
      "  0%|                                                                                                                                                                                                                               | 35/100000 [00:00<09:26, 176.61it/s]"
     ]
    },
    {
     "name": "stdout",
     "output_type": "stream",
     "text": [
      "query_id is 653897, positive_passage_id is 3430420\n",
      "bm25_id_list is ['2028777', '1881698', '1307105', '7167426', '1480292', '1095947', '4914824', '8583068', '4008463', '3430420']\n",
      "gpt_id_list is ['3430420', '8600899', '4008463', '2234858', '2028777', '8722220', '1881698', '1307105', '7134835', '5463894', '2322981', '4914824', '1480292', '1095946', '1095947', '7610677', '7140436', '7367129', '1515988', '7167426', '8583068']\n",
      "label_idx_lst is [10, 9, 1, 2, 3, 7, 5, 6, 4, 8]\n",
      "input_text is Rank the 10 passages based on their relevance to the search query. The passages will be listed in descending order using identifiers, and the most relevant passages should be listed first, and the output format should be [] > [] > etc\n",
      "\n",
      "### Query:\n",
      "what does time and a half mean\n",
      "\n",
      "### Candidates:\n",
      "[1] What does a drug's half-life mean? Half-life is the period of time it takes for a substance undergoing decay to decrease by half. A drug's shelf-life is determined by finding out how long it takes a medication or drug to be eliminated from blood plasma by one half of its strength.\n",
      "[2] Half Duplex (HDX) Definition - What does Half Duplex (HDX) mean? Half duplex (HDC) is a type of system that enables bidirectional data or voice communication between two nodes, where both end nodes send or receive data one node at a time.\n",
      "[3] What is the meaning of HASTE MRI abbreviation? The meaning of HASTE MRI abbreviation is half-Fourier acquisition single-shot turbo spin-echo magnetic resonance imaging. Q: A: What is HASTE MRI abbreviation? One of the definitions of HASTE MRI is half-Fourier acquisition single-shot turbo spin-echo magnetic resonance imaging. Q: A: What does HASTE MRI mean? HASTE MRI as abbreviation means half-Fourier acquisition single-shot turbo spin-echo magnetic resonance imaging. Q: A: What is shorthand of half-Fourier acquisition single-shot turbo spin-echo magnetic resonance imaging? The most common shorthand of half-Fourier acquisition single-shot turbo spin-echo magnetic resonance imaging is HASTE MRI.\n",
      "[4] What is honesty? What does it really mean? Is a half-truth really a lie or just a half-truth? It is safe to say the definition of honesty can mean a lot of different things for a lot of different people. Wikipedia defines honesty as the human quality of communicating and acting truthfully and with fairness. Merriam\n",
      "[5] THE DREADED Doomsday Clock has moved to closer to midnight today. But what is the clock and why does it symbolise the threat of global obliteration? Scientists are have moved the Doomsday Clock's hands to two and half minutes to midnight - the time representing the end of humanity. After the clock moved 30 seconds closer to midnight, here is look at what the time means and how the Doomsday clock started ticking. Related articles\n",
      "[6] Report Abusive Post. Report Copyright Violation. SPIRITUAL PEOPLE, what does this mean??? When someone prays to God asking for help, etc...suddenly that person lets out a big yawn. It happens almost all the time when praying or talking to God.... what does it mean? Re: SPIRITUAL PEOPLE, what does this mean??? did it occur to you to look up what ...hen someone prays to God asking for help, etc...suddenly that person lets out a big yawn. It happens almost all the time when praying or talking to God.... what does it mean? Be offended. It's my gift to you. For a few seconds, it means you're awake... Re: SPIRITUAL PEOPLE, what does this mean???\n",
      "[7] Know what coffee is what. What a (half-drunk) caffe caffÃ¨ looks like In. Italy, obviously a latte in An american Or British starbucksâisn t the same as a latte In. (Italy since the word Is italian and does âmean,â milk of, Course italians might have the edge on saying that The starbucks version is plain old). wrongnow what coffee is what. What a (half-drunk) caffe caffÃ¨ looks like In. Italy, obviously a latte in An american Or British starbucksâisn t the same as a latte In. (Italy since the word Is italian and does âmean,â milk of, Course italians might have the edge on saying that The starbucks version is plain old). wrong\n",
      "[8] Now, since the creation of the first Half U1 battery, the category is flooded with the following capacities: 18Ah, 20Ah and 22Ah. What does this mean to you? If you were used to one of the smaller capacities you would enjoy a 20-25% increase in run time.\n",
      "[9] How long does it take for caffeine to be eliminated from the body? 6. Get help from a doctor now âº. 12-16 hours: Caffeine has a half-life of about 6 hours, meaning half of the caffeine will be left in your system 6 hours after ingestion, and half of whats left 6 hours later so on and so forth.. Get help from a doctor now âº. 12-16 hours: Caffeine has a half-life of about 6 hours, meaning half of the caffeine will be left in your system 6 hours after ingestion, and half of whats left 6 hours later so on and so forth.\n",
      "[10] time and a half(noun) a rate of pay that is 1.5 times the regular rate; for overtime work.\n",
      "\n",
      "### Response:\n",
      "\n",
      "label_text is [10] > [9] > [1] > [2] > [3] > [7] > [5] > [6] > [4] > [8]\n",
      "the length of tokenized_full_input_text is 1278\n",
      "query_id is 387441, positive_passage_id is 5210298\n",
      "bm25_id_list is ['7379456', '5462915', '1611257', '2628699', '3251269', '2185924', '4348023', '8314103', '5210298', '6244245']\n",
      "gpt_id_list is ['5210298', '1571948', '1611257', '5409484', '2628699', '5462915', '7379456', '8352392', '3251269', '2185924', '6053763', '6164851', '4120968', '4348023', '6424129', '3251270', '906577', '8314103', '1893665', '6244245', '1486567']\n",
      "label_idx_lst is [9, 3, 4, 2, 1, 5, 6, 7, 8, 10]\n",
      "input_text is Rank the 10 passages based on their relevance to the search query. The passages will be listed in descending order using identifiers, and the most relevant passages should be listed first, and the output format should be [] > [] > etc\n",
      "\n",
      "### Query:\n",
      "how was google founded\n",
      "\n",
      "### Candidates:\n",
      "[1] Instructions to install the Google Play Services in our Xamarin Android Player or the GenyMotion Emulator can be found here: https://university.xamarin.com/resources/how-to-install-google-play-on-android-emulator.Yes I found this article helpful. No I did not find this article helpful.nstructions to install the Google Play Services in our Xamarin Android Player or the GenyMotion Emulator can be found here: https://university.xamarin.com/resources/how-to-install-google-play-on-android-emulator. Yes I found this article helpful.\n",
      "[2] How to Get on the Front Page of Google in 7 Minutes or Less. How to get on the front page of Google. How to get on the first page of Google. How to be found on Google. Google first page. Google front page. Google Search Engine Optimization.Google SEO.how to get on front page of Google. Google front page software.lick here to Discover How to be on Google Front Page in 7 minutes or less: http://bit.ly/18ziu1S. These top Internet marketers-Shawn Casey and Brian Koz-have spent over $100K to build the most powerful software-ever-that automatically gets traffic to your website.\n",
      "[3] What really convinced me was how much I started using Google myself. This was shortly after I found out that Google's search recognizes +1's coupled with the discovery of Google Authorship. Employing Google Authorship as a PR channel has proved very beneficial to Google as they are now the second largest social network, next to Facebook.\n",
      "[4] Also like other search engines, Google has a large index of keywords and where those words can be found. What sets Google apart is how it ranks search results, which in turn determines the order Google displays results on its search engine results page (SERP).\n",
      "[5] I found a few lists of the most common words in the English language, and came up with a top 50 to see how frequently those were estimated to show up in Google, Yahoo, Bing, Ask, and Google Caffeine.\n",
      "[6] found this site called younow where you can stream and talk to people and stuff. and be able to make money there and being partnered with younow. i tried to google about it and see how much can people make there like top streamers but i didn't find anything. does anyone know how much can a person make per month... show more found this site called younow where you can stream and talk to people and stuff. and be able to make money there and being partnered with younow. i tried to google about it and see how much can people make there like top streamers but i didn't find anything.\n",
      "[7] If you look at a chart from Google Trends, which measures how often Google users are searching for certain terms, the search term Pinterest doesn't really register until about midway through 2011. Then it spikes. But Pinterest wasn't founded in 2011.\n",
      "[8] 10/11/11 3:25 PM. When I paste text I copied from Gmail into a Google Doc it has a strange box/border around the text. When I paste into Gmail, I have the same problem, but found I can choose Remove Formatting, and it will remove the box. In Docs, that doesn't seem to do the trick.The box only started to appear with the updates that were made to the look and feel of Gmail and Google Docs. So...this is sort of a How To question, but also a request for Google to get rid of the box when copying and pasting between Google applications.0/11/11 3:25 PM. When I paste text I copied from Gmail into a Google Doc it has a strange box/border around the text. When I paste into Gmail, I have the same problem, but found I can choose Remove Formatting, and it will remove the box. In Docs, that doesn't seem to do the trick.\n",
      "[9] Google was co-founded in by Larry Page and Sergey Brin while they were students at Stanford University. Google was first incorporated as a privately held company on September â¦4th, 1998. The company name Google has its origin in the word Googol, which is the term for the number that represents 'one followed by hundred zeros'.\n",
      "[10] Rating Newest Oldest. Best Answer: I've actually been wondering the same exact thing. I googled MRSA and found out that doctors have a very hard time predicting how long it'll take to treat the patients because MRSA can become resistant to almost any medication.It's very scary and it's actually spreading around right now.ating Newest Oldest. Best Answer: I've actually been wondering the same exact thing. I googled MRSA and found out that doctors have a very hard time predicting how long it'll take to treat the patients because MRSA can become resistant to almost any medication.\n",
      "\n",
      "### Response:\n",
      "\n",
      "label_text is [9] > [3] > [4] > [2] > [1] > [5] > [6] > [7] > [8] > [10]\n",
      "the length of tokenized_full_input_text is 1219\n"
     ]
    },
    {
     "name": "stderr",
     "output_type": "stream",
     "text": [
      "  4%|█████████▋                                                                                                                                                                                                                   | 4365/100000 [00:21<08:45, 181.98it/s]"
     ]
    },
    {
     "name": "stdout",
     "output_type": "stream",
     "text": [
      "query_id is 19578, passage_id is 6043396\n",
      "the length of the truncated passage is 172\n",
      "the length of the original passage is 251\n",
      "query_id is 19578, passage_id is 1308917\n",
      "the length of the truncated passage is 172\n",
      "the length of the original passage is 279\n",
      "query_id is 19578, passage_id is 4269955\n",
      "the length of the truncated passage is 172\n",
      "the length of the original passage is 263\n",
      "query_id is 19578, passage_id is 1458028\n",
      "the length of the truncated passage is 172\n",
      "the length of the original passage is 291\n"
     ]
    },
    {
     "name": "stderr",
     "output_type": "stream",
     "text": [
      "  5%|███████████▊                                                                                                                                                                                                                 | 5342/100000 [00:26<08:38, 182.58it/s]"
     ]
    },
    {
     "name": "stdout",
     "output_type": "stream",
     "text": [
      "query_id is 1056864, passage_id is 8226301\n",
      "the length of the truncated passage is 172\n",
      "the length of the original passage is 200\n",
      "query_id is 1056864, passage_id is 5209526\n",
      "the length of the truncated passage is 172\n",
      "the length of the original passage is 362\n",
      "query_id is 1056864, passage_id is 5846509\n",
      "the length of the truncated passage is 172\n",
      "the length of the original passage is 298\n",
      "query_id is 1056864, passage_id is 6243312\n",
      "the length of the truncated passage is 172\n",
      "the length of the original passage is 236\n",
      "query_id is 1056864, passage_id is 6869799\n",
      "the length of the truncated passage is 172\n",
      "the length of the original passage is 194\n",
      "query_id is 1056864, passage_id is 4913721\n",
      "the length of the truncated passage is 172\n",
      "the length of the original passage is 173\n"
     ]
    },
    {
     "name": "stderr",
     "output_type": "stream",
     "text": [
      "  7%|███████████████▍                                                                                                                                                                                                             | 6976/100000 [00:35<08:27, 183.40it/s]"
     ]
    },
    {
     "name": "stdout",
     "output_type": "stream",
     "text": [
      "query_id is 278965, passage_id is 6517753\n",
      "the length of the truncated passage is 174\n",
      "the length of the original passage is 206\n",
      "query_id is 278965, passage_id is 6517757\n",
      "the length of the truncated passage is 174\n",
      "the length of the original passage is 205\n",
      "query_id is 278965, passage_id is 6517754\n",
      "the length of the truncated passage is 174\n",
      "the length of the original passage is 292\n",
      "query_id is 278965, passage_id is 6455675\n",
      "the length of the truncated passage is 174\n",
      "the length of the original passage is 195\n",
      "query_id is 278965, passage_id is 2705398\n",
      "the length of the truncated passage is 174\n",
      "the length of the original passage is 178\n",
      "query_id is 278965, passage_id is 1520902\n",
      "the length of the truncated passage is 174\n",
      "the length of the original passage is 499\n"
     ]
    },
    {
     "name": "stderr",
     "output_type": "stream",
     "text": [
      "  7%|████████████████▎                                                                                                                                                                                                            | 7377/100000 [00:37<08:35, 179.50it/s]"
     ]
    },
    {
     "name": "stdout",
     "output_type": "stream",
     "text": [
      "query_id is 317299, passage_id is 6240184\n",
      "the length of the truncated passage is 174\n",
      "the length of the original passage is 236\n",
      "query_id is 317299, passage_id is 3888784\n",
      "the length of the truncated passage is 174\n",
      "the length of the original passage is 208\n",
      "query_id is 317299, passage_id is 4740796\n",
      "the length of the truncated passage is 174\n",
      "the length of the original passage is 307\n",
      "query_id is 317299, passage_id is 4740793\n",
      "the length of the truncated passage is 174\n",
      "the length of the original passage is 229\n",
      "query_id is 317299, passage_id is 4740791\n",
      "the length of the truncated passage is 174\n",
      "the length of the original passage is 201\n",
      "query_id is 317299, passage_id is 4740788\n",
      "the length of the truncated passage is 174\n",
      "the length of the original passage is 208\n",
      "query_id is 317299, passage_id is 4740795\n",
      "the length of the truncated passage is 174\n",
      "the length of the original passage is 199\n"
     ]
    },
    {
     "name": "stderr",
     "output_type": "stream",
     "text": [
      "  9%|██████████████████▉                                                                                                                                                                                                          | 8542/100000 [00:43<08:31, 178.93it/s]"
     ]
    },
    {
     "name": "stdout",
     "output_type": "stream",
     "text": [
      "query_id is 98009, passage_id is 1987766\n",
      "the length of the truncated passage is 174\n",
      "the length of the original passage is 195\n",
      "query_id is 98009, passage_id is 5510739\n",
      "the length of the truncated passage is 174\n",
      "the length of the original passage is 242\n",
      "query_id is 98009, passage_id is 5702399\n",
      "the length of the truncated passage is 174\n",
      "the length of the original passage is 219\n",
      "query_id is 98009, passage_id is 7673375\n",
      "the length of the truncated passage is 174\n",
      "the length of the original passage is 230\n",
      "query_id is 98009, passage_id is 1987768\n",
      "the length of the truncated passage is 174\n",
      "the length of the original passage is 181\n",
      "query_id is 98009, passage_id is 2805633\n",
      "the length of the truncated passage is 174\n",
      "the length of the original passage is 189\n",
      "query_id is 98009, passage_id is 794927\n",
      "the length of the truncated passage is 174\n",
      "the length of the original passage is 183\n",
      "query_id is 98009, passage_id is 4829369\n",
      "the length of the truncated passage is 174\n",
      "the length of the original passage is 226\n"
     ]
    },
    {
     "name": "stderr",
     "output_type": "stream",
     "text": [
      " 10%|█████████████████████▎                                                                                                                                                                                                       | 9641/100000 [00:49<08:37, 174.58it/s]"
     ]
    },
    {
     "name": "stdout",
     "output_type": "stream",
     "text": [
      "query_id is 269392, passage_id is 6407644\n",
      "the length of the truncated passage is 173\n",
      "the length of the original passage is 216\n",
      "query_id is 269392, passage_id is 6407645\n",
      "the length of the truncated passage is 173\n",
      "the length of the original passage is 197\n",
      "query_id is 269392, passage_id is 6190451\n",
      "the length of the truncated passage is 173\n",
      "the length of the original passage is 180\n",
      "query_id is 269392, passage_id is 1106692\n",
      "the length of the truncated passage is 173\n",
      "the length of the original passage is 192\n",
      "query_id is 269392, passage_id is 7051026\n",
      "the length of the truncated passage is 173\n",
      "the length of the original passage is 199\n",
      "query_id is 269392, passage_id is 1956852\n",
      "the length of the truncated passage is 173\n",
      "the length of the original passage is 320\n",
      "query_id is 269392, passage_id is 6190450\n",
      "the length of the truncated passage is 173\n",
      "the length of the original passage is 196\n",
      "query_id is 269392, passage_id is 3741430\n",
      "the length of the truncated passage is 173\n",
      "the length of the original passage is 202\n"
     ]
    },
    {
     "name": "stderr",
     "output_type": "stream",
     "text": [
      " 11%|████████████████████████▊                                                                                                                                                                                                   | 11299/100000 [00:58<08:26, 175.11it/s]"
     ]
    },
    {
     "name": "stdout",
     "output_type": "stream",
     "text": [
      "query_id is 777576, passage_id is 6868743\n",
      "the length of the truncated passage is 172\n",
      "the length of the original passage is 244\n",
      "query_id is 777576, passage_id is 5059087\n",
      "the length of the truncated passage is 172\n",
      "the length of the original passage is 297\n",
      "query_id is 777576, passage_id is 6356313\n",
      "the length of the truncated passage is 172\n",
      "the length of the original passage is 249\n",
      "query_id is 777576, passage_id is 5718239\n",
      "the length of the truncated passage is 172\n",
      "the length of the original passage is 233\n",
      "query_id is 777576, passage_id is 7974754\n",
      "the length of the truncated passage is 172\n",
      "the length of the original passage is 227\n",
      "query_id is 777576, passage_id is 1948386\n",
      "the length of the truncated passage is 172\n",
      "the length of the original passage is 192\n"
     ]
    },
    {
     "name": "stderr",
     "output_type": "stream",
     "text": [
      " 13%|███████████████████████████▊                                                                                                                                                                                                | 12617/100000 [01:05<08:14, 176.74it/s]"
     ]
    },
    {
     "name": "stdout",
     "output_type": "stream",
     "text": [
      "query_id is 500236, passage_id is 8539072\n",
      "the length of the truncated passage is 174\n",
      "the length of the original passage is 189\n",
      "query_id is 500236, passage_id is 1446602\n",
      "the length of the truncated passage is 174\n",
      "the length of the original passage is 232\n",
      "query_id is 500236, passage_id is 4895651\n",
      "the length of the truncated passage is 174\n",
      "the length of the original passage is 233\n",
      "query_id is 500236, passage_id is 6977044\n",
      "the length of the truncated passage is 174\n",
      "the length of the original passage is 280\n",
      "query_id is 500236, passage_id is 897311\n",
      "the length of the truncated passage is 174\n",
      "the length of the original passage is 197\n",
      "query_id is 500236, passage_id is 6785243\n",
      "the length of the truncated passage is 174\n",
      "the length of the original passage is 270\n",
      "query_id is 500236, passage_id is 1901468\n",
      "the length of the truncated passage is 174\n",
      "the length of the original passage is 242\n"
     ]
    },
    {
     "name": "stderr",
     "output_type": "stream",
     "text": [
      " 13%|█████████████████████████████▎                                                                                                                                                                                              | 13345/100000 [01:08<08:23, 172.05it/s]"
     ]
    },
    {
     "name": "stdout",
     "output_type": "stream",
     "text": [
      "query_id is 41860, passage_id is 534913\n",
      "the length of the truncated passage is 173\n",
      "the length of the original passage is 174\n",
      "query_id is 41860, passage_id is 534910\n",
      "the length of the truncated passage is 173\n",
      "the length of the original passage is 282\n",
      "query_id is 41860, passage_id is 5276340\n",
      "the length of the truncated passage is 173\n",
      "the length of the original passage is 247\n",
      "query_id is 41860, passage_id is 6326611\n",
      "the length of the truncated passage is 173\n",
      "the length of the original passage is 261\n",
      "query_id is 41860, passage_id is 3370682\n",
      "the length of the truncated passage is 173\n",
      "the length of the original passage is 190\n",
      "query_id is 41860, passage_id is 8390710\n",
      "the length of the truncated passage is 173\n",
      "the length of the original passage is 261\n",
      "query_id is 41860, passage_id is 6608091\n",
      "the length of the truncated passage is 173\n",
      "the length of the original passage is 188\n"
     ]
    },
    {
     "name": "stderr",
     "output_type": "stream",
     "text": [
      " 16%|███████████████████████████████████▌                                                                                                                                                                                        | 16152/100000 [01:23<07:50, 178.18it/s]"
     ]
    },
    {
     "name": "stdout",
     "output_type": "stream",
     "text": [
      "query_id is 525599, passage_id is 594977\n",
      "the length of the truncated passage is 173\n",
      "the length of the original passage is 204\n",
      "query_id is 525599, passage_id is 4772173\n",
      "the length of the truncated passage is 173\n",
      "the length of the original passage is 218\n",
      "query_id is 525599, passage_id is 6168041\n",
      "the length of the truncated passage is 173\n",
      "the length of the original passage is 259\n",
      "query_id is 525599, passage_id is 6414815\n",
      "the length of the truncated passage is 173\n",
      "the length of the original passage is 244\n",
      "query_id is 525599, passage_id is 978801\n",
      "the length of the truncated passage is 173\n",
      "the length of the original passage is 287\n",
      "query_id is 525599, passage_id is 8401904\n",
      "the length of the truncated passage is 173\n",
      "the length of the original passage is 214\n"
     ]
    },
    {
     "name": "stderr",
     "output_type": "stream",
     "text": [
      " 24%|████████████████████████████████████████████████████▌                                                                                                                                                                       | 23870/100000 [02:05<07:23, 171.56it/s]"
     ]
    },
    {
     "name": "stdout",
     "output_type": "stream",
     "text": [
      "query_id is 101630, passage_id is 1538261\n",
      "the length of the truncated passage is 172\n",
      "the length of the original passage is 253\n",
      "query_id is 101630, passage_id is 2973586\n",
      "the length of the truncated passage is 172\n",
      "the length of the original passage is 290\n",
      "query_id is 101630, passage_id is 7423546\n",
      "the length of the truncated passage is 172\n",
      "the length of the original passage is 194\n",
      "query_id is 101630, passage_id is 2040016\n",
      "the length of the truncated passage is 172\n",
      "the length of the original passage is 271\n",
      "query_id is 101630, passage_id is 6645879\n",
      "the length of the truncated passage is 172\n",
      "the length of the original passage is 237\n",
      "query_id is 101630, passage_id is 5469190\n",
      "the length of the truncated passage is 172\n",
      "the length of the original passage is 188\n"
     ]
    },
    {
     "name": "stderr",
     "output_type": "stream",
     "text": [
      " 25%|███████████████████████████████████████████████████████▎                                                                                                                                                                    | 25131/100000 [02:12<07:13, 172.81it/s]"
     ]
    },
    {
     "name": "stdout",
     "output_type": "stream",
     "text": [
      "query_id is 32864, passage_id is 6729517\n",
      "the length of the truncated passage is 173\n",
      "the length of the original passage is 188\n",
      "query_id is 32864, passage_id is 6367685\n",
      "the length of the truncated passage is 173\n",
      "the length of the original passage is 183\n",
      "query_id is 32864, passage_id is 5844571\n",
      "the length of the truncated passage is 173\n",
      "the length of the original passage is 219\n",
      "query_id is 32864, passage_id is 6729519\n",
      "the length of the truncated passage is 173\n",
      "the length of the original passage is 226\n",
      "query_id is 32864, passage_id is 5732269\n",
      "the length of the truncated passage is 173\n",
      "the length of the original passage is 183\n",
      "query_id is 32864, passage_id is 8007135\n",
      "the length of the truncated passage is 173\n",
      "the length of the original passage is 312\n",
      "query_id is 32864, passage_id is 5844568\n",
      "the length of the truncated passage is 173\n",
      "the length of the original passage is 328\n"
     ]
    },
    {
     "name": "stderr",
     "output_type": "stream",
     "text": [
      " 29%|██████████████████████████████████████████████████████████████▋                                                                                                                                                             | 28504/100000 [02:31<07:03, 168.78it/s]"
     ]
    },
    {
     "name": "stdout",
     "output_type": "stream",
     "text": [
      "query_id is 511684, passage_id is 6170619\n",
      "the length of the truncated passage is 173\n",
      "the length of the original passage is 191\n",
      "query_id is 511684, passage_id is 6170616\n",
      "the length of the truncated passage is 173\n",
      "the length of the original passage is 180\n",
      "query_id is 511684, passage_id is 153237\n",
      "the length of the truncated passage is 173\n",
      "the length of the original passage is 179\n",
      "query_id is 511684, passage_id is 6101838\n",
      "the length of the truncated passage is 173\n",
      "the length of the original passage is 209\n",
      "query_id is 511684, passage_id is 5656649\n",
      "the length of the truncated passage is 173\n",
      "the length of the original passage is 324\n",
      "query_id is 511684, passage_id is 3000555\n",
      "the length of the truncated passage is 173\n",
      "the length of the original passage is 316\n"
     ]
    },
    {
     "name": "stderr",
     "output_type": "stream",
     "text": [
      " 29%|███████████████████████████████████████████████████████████████▊                                                                                                                                                            | 28986/100000 [02:33<06:27, 183.48it/s]"
     ]
    },
    {
     "name": "stdout",
     "output_type": "stream",
     "text": [
      "Warning: 129844 contain less than 9 passages\n"
     ]
    },
    {
     "name": "stderr",
     "output_type": "stream",
     "text": [
      " 30%|██████████████████████████████████████████████████████████████████▋                                                                                                                                                         | 30308/100000 [02:40<06:55, 167.67it/s]"
     ]
    },
    {
     "name": "stdout",
     "output_type": "stream",
     "text": [
      "query_id is 99396, passage_id is 843197\n",
      "the length of the truncated passage is 172\n",
      "the length of the original passage is 251\n",
      "query_id is 99396, passage_id is 1463493\n",
      "the length of the truncated passage is 172\n",
      "the length of the original passage is 236\n",
      "query_id is 99396, passage_id is 1162590\n",
      "the length of the truncated passage is 172\n",
      "the length of the original passage is 253\n",
      "query_id is 99396, passage_id is 6152254\n",
      "the length of the truncated passage is 172\n",
      "the length of the original passage is 253\n",
      "query_id is 99396, passage_id is 498238\n",
      "the length of the truncated passage is 172\n",
      "the length of the original passage is 252\n",
      "query_id is 99396, passage_id is 6980156\n",
      "the length of the truncated passage is 172\n",
      "the length of the original passage is 230\n",
      "query_id is 99396, passage_id is 1720419\n",
      "the length of the truncated passage is 172\n",
      "the length of the original passage is 177\n"
     ]
    },
    {
     "name": "stderr",
     "output_type": "stream",
     "text": [
      " 38%|███████████████████████████████████████████████████████████████████████████████████▏                                                                                                                                        | 37840/100000 [03:22<06:16, 164.94it/s]"
     ]
    },
    {
     "name": "stdout",
     "output_type": "stream",
     "text": [
      "query_id is 201010, passage_id is 1739377\n",
      "the length of the truncated passage is 174\n",
      "the length of the original passage is 358\n",
      "query_id is 201010, passage_id is 1896728\n",
      "the length of the truncated passage is 174\n",
      "the length of the original passage is 182\n",
      "query_id is 201010, passage_id is 6037861\n",
      "the length of the truncated passage is 174\n",
      "the length of the original passage is 218\n",
      "query_id is 201010, passage_id is 1642334\n",
      "the length of the truncated passage is 174\n",
      "the length of the original passage is 184\n",
      "query_id is 201010, passage_id is 6037860\n",
      "the length of the truncated passage is 174\n",
      "the length of the original passage is 244\n",
      "query_id is 201010, passage_id is 1395083\n",
      "the length of the truncated passage is 174\n",
      "the length of the original passage is 185\n",
      "query_id is 201010, passage_id is 6294944\n",
      "the length of the truncated passage is 174\n",
      "the length of the original passage is 250\n"
     ]
    },
    {
     "name": "stderr",
     "output_type": "stream",
     "text": [
      " 38%|███████████████████████████████████████████████████████████████████████████████████▊                                                                                                                                        | 38086/100000 [03:24<05:57, 173.33it/s]"
     ]
    },
    {
     "name": "stdout",
     "output_type": "stream",
     "text": [
      "query_id is 2719, passage_id is 6500114\n",
      "the length of the truncated passage is 157\n",
      "the length of the original passage is 289\n",
      "query_id is 2719, passage_id is 6500115\n",
      "the length of the truncated passage is 157\n",
      "the length of the original passage is 368\n",
      "query_id is 2719, passage_id is 6500118\n",
      "the length of the truncated passage is 157\n",
      "the length of the original passage is 184\n",
      "query_id is 2719, passage_id is 6500116\n",
      "the length of the truncated passage is 157\n",
      "the length of the original passage is 158\n",
      "query_id is 2719, passage_id is 6059815\n",
      "the length of the truncated passage is 157\n",
      "the length of the original passage is 158\n",
      "query_id is 2719, passage_id is 206837\n",
      "the length of the truncated passage is 157\n",
      "the length of the original passage is 220\n"
     ]
    },
    {
     "name": "stderr",
     "output_type": "stream",
     "text": [
      " 42%|████████████████████████████████████████████████████████████████████████████████████████████▌                                                                                                                               | 42083/100000 [03:46<05:57, 162.10it/s]"
     ]
    },
    {
     "name": "stdout",
     "output_type": "stream",
     "text": [
      "query_id is 627681, passage_id is 847403\n",
      "the length of the truncated passage is 174\n",
      "the length of the original passage is 242\n",
      "query_id is 627681, passage_id is 3396594\n",
      "the length of the truncated passage is 174\n",
      "the length of the original passage is 259\n",
      "query_id is 627681, passage_id is 3795182\n",
      "the length of the truncated passage is 174\n",
      "the length of the original passage is 327\n",
      "query_id is 627681, passage_id is 6486968\n",
      "the length of the truncated passage is 174\n",
      "the length of the original passage is 327\n",
      "query_id is 627681, passage_id is 1233703\n",
      "the length of the truncated passage is 174\n",
      "the length of the original passage is 267\n",
      "query_id is 627681, passage_id is 574337\n",
      "the length of the truncated passage is 174\n",
      "the length of the original passage is 242\n",
      "query_id is 627681, passage_id is 6058374\n",
      "the length of the truncated passage is 174\n",
      "the length of the original passage is 199\n",
      "query_id is 627681, passage_id is 1751486\n",
      "the length of the truncated passage is 174\n",
      "the length of the original passage is 183\n"
     ]
    },
    {
     "name": "stderr",
     "output_type": "stream",
     "text": [
      " 46%|██████████████████████████████████████████████████████████████████████████████████████████████████████                                                                                                                      | 46400/100000 [04:10<05:19, 167.69it/s]"
     ]
    },
    {
     "name": "stdout",
     "output_type": "stream",
     "text": [
      "query_id is 764661, passage_id is 3019478\n",
      "the length of the truncated passage is 174\n",
      "the length of the original passage is 206\n",
      "query_id is 764661, passage_id is 4027096\n",
      "the length of the truncated passage is 174\n",
      "the length of the original passage is 250\n",
      "query_id is 764661, passage_id is 6589508\n",
      "the length of the truncated passage is 174\n",
      "the length of the original passage is 177\n",
      "query_id is 764661, passage_id is 6009290\n",
      "the length of the truncated passage is 174\n",
      "the length of the original passage is 179\n",
      "query_id is 764661, passage_id is 3019476\n",
      "the length of the truncated passage is 174\n",
      "the length of the original passage is 186\n",
      "query_id is 764661, passage_id is 4027095\n",
      "the length of the truncated passage is 174\n",
      "the length of the original passage is 247\n",
      "query_id is 764661, passage_id is 4336792\n",
      "the length of the truncated passage is 174\n",
      "the length of the original passage is 209\n",
      "query_id is 764661, passage_id is 1845481\n",
      "the length of the truncated passage is 174\n",
      "the length of the original passage is 271\n"
     ]
    },
    {
     "name": "stderr",
     "output_type": "stream",
     "text": [
      " 49%|██████████████████████████████████████████████████████████████████████████████████████████████████████████▉                                                                                                                 | 48624/100000 [04:22<05:06, 167.59it/s]"
     ]
    },
    {
     "name": "stdout",
     "output_type": "stream",
     "text": [
      "query_id is 524941, passage_id is 8000481\n",
      "the length of the truncated passage is 173\n",
      "the length of the original passage is 322\n",
      "query_id is 524941, passage_id is 1874798\n",
      "the length of the truncated passage is 173\n",
      "the length of the original passage is 229\n",
      "query_id is 524941, passage_id is 794928\n",
      "the length of the truncated passage is 173\n",
      "the length of the original passage is 229\n",
      "query_id is 524941, passage_id is 943696\n",
      "the length of the truncated passage is 173\n",
      "the length of the original passage is 281\n"
     ]
    },
    {
     "name": "stderr",
     "output_type": "stream",
     "text": [
      " 51%|█████████████████████████████████████████████████████████████████████████████████████████████████████████████████▏                                                                                                          | 51424/100000 [04:38<04:41, 172.49it/s]"
     ]
    },
    {
     "name": "stdout",
     "output_type": "stream",
     "text": [
      "query_id is 106104, passage_id is 4610085\n",
      "the length of the truncated passage is 173\n",
      "the length of the original passage is 204\n",
      "query_id is 106104, passage_id is 1371072\n",
      "the length of the truncated passage is 173\n",
      "the length of the original passage is 196\n",
      "query_id is 106104, passage_id is 6814246\n",
      "the length of the truncated passage is 173\n",
      "the length of the original passage is 200\n",
      "query_id is 106104, passage_id is 1371071\n",
      "the length of the truncated passage is 173\n",
      "the length of the original passage is 273\n",
      "query_id is 106104, passage_id is 594413\n",
      "the length of the truncated passage is 173\n",
      "the length of the original passage is 277\n",
      "query_id is 106104, passage_id is 6327947\n",
      "the length of the truncated passage is 173\n",
      "the length of the original passage is 294\n"
     ]
    },
    {
     "name": "stderr",
     "output_type": "stream",
     "text": [
      " 53%|█████████████████████████████████████████████████████████████████████████████████████████████████████████████████████▏                                                                                                      | 53267/100000 [04:48<04:26, 175.19it/s]"
     ]
    },
    {
     "name": "stdout",
     "output_type": "stream",
     "text": [
      "query_id is 110333, passage_id is 5664413\n",
      "the length of the truncated passage is 173\n",
      "the length of the original passage is 391\n",
      "query_id is 110333, passage_id is 5664417\n",
      "the length of the truncated passage is 173\n",
      "the length of the original passage is 200\n",
      "query_id is 110333, passage_id is 3486516\n",
      "the length of the truncated passage is 173\n",
      "the length of the original passage is 292\n",
      "query_id is 110333, passage_id is 8294456\n",
      "the length of the truncated passage is 173\n",
      "the length of the original passage is 179\n",
      "query_id is 110333, passage_id is 624952\n",
      "the length of the truncated passage is 173\n",
      "the length of the original passage is 193\n",
      "query_id is 110333, passage_id is 3486525\n",
      "the length of the truncated passage is 173\n",
      "the length of the original passage is 180\n",
      "query_id is 110333, passage_id is 3486518\n",
      "the length of the truncated passage is 173\n",
      "the length of the original passage is 236\n"
     ]
    },
    {
     "name": "stderr",
     "output_type": "stream",
     "text": [
      " 56%|██████████████████████████████████████████████████████████████████████████████████████████████████████████████████████████▍                                                                                                 | 55677/100000 [05:01<04:13, 174.76it/s]"
     ]
    },
    {
     "name": "stdout",
     "output_type": "stream",
     "text": [
      "query_id is 40065, passage_id is 1030212\n",
      "the length of the truncated passage is 173\n",
      "the length of the original passage is 178\n",
      "query_id is 40065, passage_id is 6980088\n",
      "the length of the truncated passage is 173\n",
      "the length of the original passage is 260\n",
      "query_id is 40065, passage_id is 6012283\n",
      "the length of the truncated passage is 173\n",
      "the length of the original passage is 223\n",
      "query_id is 40065, passage_id is 1030214\n",
      "the length of the truncated passage is 173\n",
      "the length of the original passage is 184\n",
      "query_id is 40065, passage_id is 4163846\n",
      "the length of the truncated passage is 173\n",
      "the length of the original passage is 258\n",
      "query_id is 40065, passage_id is 1074784\n",
      "the length of the truncated passage is 173\n",
      "the length of the original passage is 189\n",
      "query_id is 40065, passage_id is 6012285\n",
      "the length of the truncated passage is 173\n",
      "the length of the original passage is 229\n"
     ]
    },
    {
     "name": "stderr",
     "output_type": "stream",
     "text": [
      " 60%|███████████████████████████████████████████████████████████████████████████████████████████████████████████████████████████████████▏                                                                                        | 59634/100000 [05:23<04:00, 167.59it/s]"
     ]
    },
    {
     "name": "stdout",
     "output_type": "stream",
     "text": [
      "query_id is 797854, passage_id is 4891788\n",
      "the length of the truncated passage is 174\n",
      "the length of the original passage is 175\n",
      "query_id is 797854, passage_id is 4891790\n",
      "the length of the truncated passage is 174\n",
      "the length of the original passage is 210\n",
      "query_id is 797854, passage_id is 4891791\n",
      "the length of the truncated passage is 174\n",
      "the length of the original passage is 184\n",
      "query_id is 797854, passage_id is 4891793\n",
      "the length of the truncated passage is 174\n",
      "the length of the original passage is 222\n",
      "query_id is 797854, passage_id is 4891787\n",
      "the length of the truncated passage is 174\n",
      "the length of the original passage is 253\n",
      "query_id is 797854, passage_id is 7207486\n",
      "the length of the truncated passage is 174\n",
      "the length of the original passage is 251\n",
      "query_id is 797854, passage_id is 180377\n",
      "the length of the truncated passage is 174\n",
      "the length of the original passage is 182\n",
      "query_id is 797854, passage_id is 4278508\n",
      "the length of the truncated passage is 174\n",
      "the length of the original passage is 188\n",
      "query_id is 797854, passage_id is 1144075\n",
      "the length of the truncated passage is 174\n",
      "the length of the original passage is 187\n"
     ]
    },
    {
     "name": "stderr",
     "output_type": "stream",
     "text": [
      " 62%|█████████████████████████████████████████████████████████████████████████████████████████████████████████████████████████████████████████▍                                                                                  | 62486/100000 [05:39<03:48, 164.34it/s]"
     ]
    },
    {
     "name": "stdout",
     "output_type": "stream",
     "text": [
      "query_id is 829947, passage_id is 2241535\n",
      "the length of the truncated passage is 173\n",
      "the length of the original passage is 263\n",
      "query_id is 829947, passage_id is 6095964\n",
      "the length of the truncated passage is 173\n",
      "the length of the original passage is 195\n",
      "query_id is 829947, passage_id is 4085751\n",
      "the length of the truncated passage is 173\n",
      "the length of the original passage is 211\n",
      "query_id is 829947, passage_id is 5092971\n",
      "the length of the truncated passage is 173\n",
      "the length of the original passage is 197\n",
      "query_id is 829947, passage_id is 858695\n",
      "the length of the truncated passage is 173\n",
      "the length of the original passage is 235\n",
      "query_id is 829947, passage_id is 5755601\n",
      "the length of the truncated passage is 173\n",
      "the length of the original passage is 188\n",
      "query_id is 829947, passage_id is 3794772\n",
      "the length of the truncated passage is 173\n",
      "the length of the original passage is 272\n"
     ]
    },
    {
     "name": "stderr",
     "output_type": "stream",
     "text": [
      " 63%|██████████████████████████████████████████████████████████████████████████████████████████████████████████████████████████████████████████▏                                                                                 | 62814/100000 [05:40<03:35, 172.90it/s]"
     ]
    },
    {
     "name": "stdout",
     "output_type": "stream",
     "text": [
      "Warning: 48509 contain less than 9 passages\n"
     ]
    },
    {
     "name": "stderr",
     "output_type": "stream",
     "text": [
      " 64%|███████████████████████████████████████████████████████████████████████████████████████████████████████████████████████████████████████████▊                                                                                | 63550/100000 [05:45<03:35, 169.46it/s]"
     ]
    },
    {
     "name": "stdout",
     "output_type": "stream",
     "text": [
      "query_id is 1013137, passage_id is 4778078\n",
      "the length of the truncated passage is 171\n",
      "the length of the original passage is 279\n",
      "query_id is 1013137, passage_id is 6999371\n",
      "the length of the truncated passage is 171\n",
      "the length of the original passage is 265\n",
      "query_id is 1013137, passage_id is 3097059\n",
      "the length of the truncated passage is 171\n",
      "the length of the original passage is 306\n",
      "query_id is 1013137, passage_id is 5917324\n",
      "the length of the truncated passage is 171\n",
      "the length of the original passage is 249\n",
      "query_id is 1013137, passage_id is 701221\n",
      "the length of the truncated passage is 171\n",
      "the length of the original passage is 185\n",
      "query_id is 1013137, passage_id is 926863\n",
      "the length of the truncated passage is 171\n",
      "the length of the original passage is 279\n",
      "query_id is 1013137, passage_id is 7300573\n",
      "the length of the truncated passage is 171\n",
      "the length of the original passage is 185\n",
      "query_id is 1013137, passage_id is 4477949\n",
      "the length of the truncated passage is 171\n",
      "the length of the original passage is 231\n",
      "query_id is 1013137, passage_id is 3917441\n",
      "the length of the truncated passage is 171\n",
      "the length of the original passage is 210\n"
     ]
    },
    {
     "name": "stderr",
     "output_type": "stream",
     "text": [
      " 67%|██████████████████████████████████████████████████████████████████████████████████████████████████████████████████████████████████████████████████▍                                                                         | 66548/100000 [06:01<03:25, 163.08it/s]"
     ]
    },
    {
     "name": "stdout",
     "output_type": "stream",
     "text": [
      "query_id is 247146, passage_id is 416233\n",
      "the length of the truncated passage is 171\n",
      "the length of the original passage is 201\n",
      "query_id is 247146, passage_id is 1617072\n",
      "the length of the truncated passage is 171\n",
      "the length of the original passage is 218\n",
      "query_id is 247146, passage_id is 8270998\n",
      "the length of the truncated passage is 171\n",
      "the length of the original passage is 198\n",
      "query_id is 247146, passage_id is 6115879\n",
      "the length of the truncated passage is 171\n",
      "the length of the original passage is 235\n",
      "query_id is 247146, passage_id is 2724942\n",
      "the length of the truncated passage is 171\n",
      "the length of the original passage is 258\n",
      "query_id is 247146, passage_id is 2494189\n",
      "the length of the truncated passage is 171\n",
      "the length of the original passage is 222\n",
      "query_id is 247146, passage_id is 7808547\n",
      "the length of the truncated passage is 171\n",
      "the length of the original passage is 190\n",
      "query_id is 247146, passage_id is 1656207\n",
      "the length of the truncated passage is 171\n",
      "the length of the original passage is 233\n"
     ]
    },
    {
     "name": "stderr",
     "output_type": "stream",
     "text": [
      " 67%|███████████████████████████████████████████████████████████████████████████████████████████████████████████████████████████████████████████████████                                                                         | 66867/100000 [06:03<03:17, 167.71it/s]"
     ]
    },
    {
     "name": "stdout",
     "output_type": "stream",
     "text": [
      "query_id is 492169, passage_id is 3560678\n",
      "the length of the truncated passage is 171\n",
      "the length of the original passage is 248\n",
      "query_id is 492169, passage_id is 652152\n",
      "the length of the truncated passage is 171\n",
      "the length of the original passage is 200\n",
      "query_id is 492169, passage_id is 1587315\n",
      "the length of the truncated passage is 171\n",
      "the length of the original passage is 237\n",
      "query_id is 492169, passage_id is 6168697\n",
      "the length of the truncated passage is 171\n",
      "the length of the original passage is 194\n",
      "query_id is 492169, passage_id is 6505289\n",
      "the length of the truncated passage is 171\n",
      "the length of the original passage is 199\n",
      "query_id is 492169, passage_id is 6318485\n",
      "the length of the truncated passage is 171\n",
      "the length of the original passage is 210\n",
      "query_id is 492169, passage_id is 1587316\n",
      "the length of the truncated passage is 171\n",
      "the length of the original passage is 189\n",
      "query_id is 492169, passage_id is 1553457\n",
      "the length of the truncated passage is 171\n",
      "the length of the original passage is 183\n",
      "query_id is 492169, passage_id is 2476478\n",
      "the length of the truncated passage is 171\n",
      "the length of the original passage is 200\n"
     ]
    },
    {
     "name": "stderr",
     "output_type": "stream",
     "text": [
      " 76%|██████████████████████████████████████████████████████████████████████████████████████████████████████████████████████████████████████████████████████████████████████▍                                                     | 75651/100000 [06:52<02:25, 167.17it/s]"
     ]
    },
    {
     "name": "stdout",
     "output_type": "stream",
     "text": [
      "query_id is 692864, passage_id is 6294945\n",
      "the length of the truncated passage is 172\n",
      "the length of the original passage is 250\n",
      "query_id is 692864, passage_id is 6868743\n",
      "the length of the truncated passage is 172\n",
      "the length of the original passage is 244\n",
      "query_id is 692864, passage_id is 5059087\n",
      "the length of the truncated passage is 172\n",
      "the length of the original passage is 297\n",
      "query_id is 692864, passage_id is 7974754\n",
      "the length of the truncated passage is 172\n",
      "the length of the original passage is 227\n",
      "query_id is 692864, passage_id is 2975218\n",
      "the length of the truncated passage is 172\n",
      "the length of the original passage is 212\n",
      "query_id is 692864, passage_id is 1723291\n",
      "the length of the truncated passage is 172\n",
      "the length of the original passage is 230\n",
      "query_id is 692864, passage_id is 3025777\n",
      "the length of the truncated passage is 172\n",
      "the length of the original passage is 201\n",
      "query_id is 692864, passage_id is 2176636\n",
      "the length of the truncated passage is 172\n",
      "the length of the original passage is 175\n",
      "query_id is 692864, passage_id is 700658\n",
      "the length of the truncated passage is 172\n",
      "the length of the original passage is 226\n"
     ]
    },
    {
     "name": "stderr",
     "output_type": "stream",
     "text": [
      " 84%|████████████████████████████████████████████████████████████████████████████████████████████████████████████████████████████████████████████████████████████████████████████████████████▊                                   | 84027/100000 [07:39<01:32, 172.91it/s]"
     ]
    },
    {
     "name": "stdout",
     "output_type": "stream",
     "text": [
      "query_id is 846456, passage_id is 8252106\n",
      "the length of the truncated passage is 172\n",
      "the length of the original passage is 242\n",
      "query_id is 846456, passage_id is 6453416\n",
      "the length of the truncated passage is 172\n",
      "the length of the original passage is 295\n",
      "query_id is 846456, passage_id is 8252108\n",
      "the length of the truncated passage is 172\n",
      "the length of the original passage is 202\n",
      "query_id is 846456, passage_id is 8252107\n",
      "the length of the truncated passage is 172\n",
      "the length of the original passage is 267\n",
      "query_id is 846456, passage_id is 8252105\n",
      "the length of the truncated passage is 172\n",
      "the length of the original passage is 215\n",
      "query_id is 846456, passage_id is 6453415\n",
      "the length of the truncated passage is 172\n",
      "the length of the original passage is 193\n",
      "query_id is 846456, passage_id is 5894122\n",
      "the length of the truncated passage is 172\n",
      "the length of the original passage is 193\n",
      "query_id is 846456, passage_id is 7579340\n",
      "the length of the truncated passage is 172\n",
      "the length of the original passage is 182\n"
     ]
    },
    {
     "name": "stderr",
     "output_type": "stream",
     "text": [
      " 85%|██████████████████████████████████████████████████████████████████████████████████████████████████████████████████████████████████████████████████████████████████████████████████████████▌                                 | 84790/100000 [07:43<01:39, 152.46it/s]"
     ]
    },
    {
     "name": "stdout",
     "output_type": "stream",
     "text": [
      "query_id is 189015, passage_id is 5413291\n",
      "the length of the truncated passage is 173\n",
      "the length of the original passage is 188\n",
      "query_id is 189015, passage_id is 6089467\n",
      "the length of the truncated passage is 173\n",
      "the length of the original passage is 209\n",
      "query_id is 189015, passage_id is 603302\n",
      "the length of the truncated passage is 173\n",
      "the length of the original passage is 187\n",
      "query_id is 189015, passage_id is 52946\n",
      "the length of the truncated passage is 173\n",
      "the length of the original passage is 206\n",
      "query_id is 189015, passage_id is 1901493\n",
      "the length of the truncated passage is 173\n",
      "the length of the original passage is 189\n",
      "query_id is 189015, passage_id is 6239268\n",
      "the length of the truncated passage is 173\n",
      "the length of the original passage is 225\n",
      "query_id is 189015, passage_id is 726275\n",
      "the length of the truncated passage is 173\n",
      "the length of the original passage is 306\n",
      "query_id is 189015, passage_id is 3387588\n",
      "the length of the truncated passage is 173\n",
      "the length of the original passage is 177\n",
      "query_id is 498257, passage_id is 7874182\n",
      "the length of the truncated passage is 167\n",
      "the length of the original passage is 247\n",
      "query_id is 498257, passage_id is 3731541\n",
      "the length of the truncated passage is 167\n",
      "the length of the original passage is 245\n",
      "query_id is 498257, passage_id is 8188723\n",
      "the length of the truncated passage is 167\n",
      "the length of the original passage is 176\n",
      "query_id is 498257, passage_id is 7031543\n",
      "the length of the truncated passage is 167\n",
      "the length of the original passage is 313\n",
      "query_id is 498257, passage_id is 7031541\n",
      "the length of the truncated passage is 167\n",
      "the length of the original passage is 214\n",
      "query_id is 498257, passage_id is 6899398\n",
      "the length of the truncated passage is 167\n",
      "the length of the original passage is 175\n",
      "query_id is 498257, passage_id is 6899400\n",
      "the length of the truncated passage is 167\n",
      "the length of the original passage is 193\n"
     ]
    },
    {
     "name": "stderr",
     "output_type": "stream",
     "text": [
      " 87%|███████████████████████████████████████████████████████████████████████████████████████████████████████████████████████████████████████████████████████████████████████████████████████████████▋                            | 87142/100000 [07:56<01:16, 167.89it/s]"
     ]
    },
    {
     "name": "stdout",
     "output_type": "stream",
     "text": [
      "query_id is 805164, passage_id is 2178432\n",
      "the length of the truncated passage is 172\n",
      "the length of the original passage is 178\n",
      "query_id is 805164, passage_id is 6814249\n",
      "the length of the truncated passage is 172\n",
      "the length of the original passage is 179\n",
      "query_id is 805164, passage_id is 594416\n",
      "the length of the truncated passage is 172\n",
      "the length of the original passage is 212\n",
      "query_id is 805164, passage_id is 1371071\n",
      "the length of the truncated passage is 172\n",
      "the length of the original passage is 273\n",
      "query_id is 805164, passage_id is 594413\n",
      "the length of the truncated passage is 172\n",
      "the length of the original passage is 277\n",
      "query_id is 805164, passage_id is 6327947\n",
      "the length of the truncated passage is 172\n",
      "the length of the original passage is 294\n",
      "query_id is 805164, passage_id is 2226482\n",
      "the length of the truncated passage is 172\n",
      "the length of the original passage is 271\n"
     ]
    },
    {
     "name": "stderr",
     "output_type": "stream",
     "text": [
      " 92%|█████████████████████████████████████████████████████████████████████████████████████████████████████████████████████████████████████████████████████████████████████████████████████████████████████████▊                  | 91750/100000 [08:22<00:46, 177.26it/s]"
     ]
    },
    {
     "name": "stdout",
     "output_type": "stream",
     "text": [
      "Warning: 56573 contain less than 9 passages\n"
     ]
    },
    {
     "name": "stderr",
     "output_type": "stream",
     "text": [
      " 93%|████████████████████████████████████████████████████████████████████████████████████████████████████████████████████████████████████████████████████████████████████████████████████████████████████████████                | 92767/100000 [08:28<00:42, 168.67it/s]"
     ]
    },
    {
     "name": "stdout",
     "output_type": "stream",
     "text": [
      "query_id is 661497, passage_id is 1752072\n",
      "the length of the truncated passage is 173\n",
      "the length of the original passage is 258\n",
      "query_id is 661497, passage_id is 3795182\n",
      "the length of the truncated passage is 173\n",
      "the length of the original passage is 327\n",
      "query_id is 661497, passage_id is 5419009\n",
      "the length of the truncated passage is 173\n",
      "the length of the original passage is 266\n",
      "query_id is 661497, passage_id is 1233703\n",
      "the length of the truncated passage is 173\n",
      "the length of the original passage is 267\n",
      "query_id is 661497, passage_id is 574337\n",
      "the length of the truncated passage is 173\n",
      "the length of the original passage is 242\n"
     ]
    },
    {
     "name": "stderr",
     "output_type": "stream",
     "text": [
      " 93%|█████████████████████████████████████████████████████████████████████████████████████████████████████████████████████████████████████████████████████████████████████████████████████████████████████████████▌              | 93439/100000 [08:32<00:38, 168.29it/s]"
     ]
    },
    {
     "name": "stdout",
     "output_type": "stream",
     "text": [
      "query_id is 465425, passage_id is 1896727\n",
      "the length of the truncated passage is 174\n",
      "the length of the original passage is 252\n",
      "query_id is 465425, passage_id is 700658\n",
      "the length of the truncated passage is 174\n",
      "the length of the original passage is 226\n",
      "query_id is 465425, passage_id is 6037861\n",
      "the length of the truncated passage is 174\n",
      "the length of the original passage is 218\n",
      "query_id is 465425, passage_id is 700659\n",
      "the length of the truncated passage is 174\n",
      "the length of the original passage is 217\n",
      "query_id is 465425, passage_id is 630894\n",
      "the length of the truncated passage is 174\n",
      "the length of the original passage is 184\n",
      "query_id is 465425, passage_id is 1723291\n",
      "the length of the truncated passage is 174\n",
      "the length of the original passage is 230\n",
      "query_id is 465425, passage_id is 6294944\n",
      "the length of the truncated passage is 174\n",
      "the length of the original passage is 250\n",
      "query_id is 465425, passage_id is 6294945\n",
      "the length of the truncated passage is 174\n",
      "the length of the original passage is 250\n"
     ]
    },
    {
     "name": "stderr",
     "output_type": "stream",
     "text": [
      " 99%|██████████████████████████████████████████████████████████████████████████████████████████████████████████████████████████████████████████████████████████████████████████████████████████████████████████████████████████▌ | 99341/100000 [09:05<00:03, 164.98it/s]"
     ]
    },
    {
     "name": "stdout",
     "output_type": "stream",
     "text": [
      "query_id is 55368, passage_id is 6339868\n",
      "the length of the truncated passage is 171\n",
      "the length of the original passage is 320\n",
      "query_id is 55368, passage_id is 2174215\n",
      "the length of the truncated passage is 171\n",
      "the length of the original passage is 238\n",
      "query_id is 55368, passage_id is 498238\n",
      "the length of the truncated passage is 171\n",
      "the length of the original passage is 252\n",
      "query_id is 55368, passage_id is 1668603\n",
      "the length of the truncated passage is 171\n",
      "the length of the original passage is 245\n",
      "query_id is 55368, passage_id is 7048782\n",
      "the length of the truncated passage is 171\n",
      "the length of the original passage is 284\n"
     ]
    },
    {
     "name": "stderr",
     "output_type": "stream",
     "text": [
      "100%|███████████████████████████████████████████████████████████████████████████████████████████████████████████████████████████████████████████████████████████████████████████████████████████████████████████████████████████| 100000/100000 [09:09<00:00, 182.14it/s]\n"
     ]
    },
    {
     "name": "stdout",
     "output_type": "stream",
     "text": [
      "the number of truncated query is 35\n"
     ]
    }
   ],
   "source": [
    "# 定义llama tokenizer\n",
    "from transformers import LlamaForCausalLM, LlamaTokenizer\n",
    "random.seed(42)\n",
    "tokenizer = LlamaTokenizer.from_pretrained('/home1/cxy/alpaca-lora/llama-7b-hf')\n",
    "save_path = '/home1/cxy/alpaca-lora/process_data/reranker_100k_bm25_2_gpt.json'\n",
    "save_lst = construct_data(tokenizer, save_path, data, response, num=10)"
   ],
   "metadata": {
    "collapsed": false,
    "pycharm": {
     "name": "#%%\n"
    }
   }
  },
  {
   "cell_type": "code",
   "execution_count": 46,
   "outputs": [
    {
     "name": "stdout",
     "output_type": "stream",
     "text": [
      "0 /home1/cxy/alpaca-lora/process_data/reranker_100k_bm25_2_gpt.json\r\n"
     ]
    }
   ],
   "source": [
    "!wc -l /home1/cxy/alpaca-lora/process_data/reranker_100k_bm25_2_gpt.json"
   ],
   "metadata": {
    "collapsed": false,
    "pycharm": {
     "name": "#%%\n"
    }
   }
  },
  {
   "cell_type": "code",
   "execution_count": null,
   "outputs": [],
   "source": [],
   "metadata": {
    "collapsed": false,
    "pycharm": {
     "name": "#%%\n"
    }
   }
  }
 ],
 "metadata": {
  "kernelspec": {
   "display_name": "Python 3",
   "language": "python",
   "name": "python3"
  },
  "language_info": {
   "codemirror_mode": {
    "name": "ipython",
    "version": 2
   },
   "file_extension": ".py",
   "mimetype": "text/x-python",
   "name": "python",
   "nbconvert_exporter": "python",
   "pygments_lexer": "ipython2",
   "version": "2.7.6"
  }
 },
 "nbformat": 4,
 "nbformat_minor": 0
}